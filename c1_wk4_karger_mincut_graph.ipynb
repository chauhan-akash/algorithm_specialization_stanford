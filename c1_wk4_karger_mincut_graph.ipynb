{
 "cells": [
  {
   "cell_type": "markdown",
   "metadata": {},
   "source": [
    "### Karger's random selection algo to compute the minimum cut in a graph\n",
    "\n",
    "The details of the algo on the [Wiki](https://en.wikipedia.org/wiki/Karger%27s_algorithm)"
   ]
  },
  {
   "cell_type": "code",
   "execution_count": 1,
   "metadata": {},
   "outputs": [],
   "source": [
    "################################\n",
    "# I. importing libraries\n",
    "################################\n",
    "import numpy as np\n",
    "import os\n",
    "import copy\n",
    "import time"
   ]
  },
  {
   "cell_type": "code",
   "execution_count": 2,
   "metadata": {},
   "outputs": [
    {
     "name": "stdout",
     "output_type": "stream",
     "text": [
      "200 2517\n"
     ]
    }
   ],
   "source": [
    "################################\n",
    "# II. importing input data and store as a graph\n",
    "################################\n",
    "\n",
    "# we will save the graph as two arrays - one for all the nodes and one for all edges\n",
    "# edges = pair of nodes joined together\n",
    "\n",
    "f = open('karger_min_cut.txt', 'r')\n",
    "\n",
    "n = []\n",
    "e = []\n",
    "\n",
    "for x in f.read().splitlines():\n",
    "    line = [int(item) for item in x.split()]\n",
    "    node = line[0]\n",
    "    n.append(node)    \n",
    "    for edge in line[1:len(line)]:\n",
    "        if ([node,edge] not in e) and ([edge, node] not in e):\n",
    "            e.append([node, edge])\n",
    "            \n",
    "f.close()\n",
    "\n",
    "print(len(n), len(e))"
   ]
  },
  {
   "cell_type": "code",
   "execution_count": 5,
   "metadata": {},
   "outputs": [
    {
     "name": "stdout",
     "output_type": "stream",
     "text": [
      "Time to run: 20.9 mins\n",
      "17\n"
     ]
    }
   ],
   "source": [
    "################################\n",
    "# III. algo to contract the edges randomly\n",
    "################################\n",
    "\n",
    "def contract(n, e):\n",
    "    while len(n) > 2:\n",
    "        ind = np.random.randint(0,len(e))\n",
    "        [u, v] = e.pop(ind)\n",
    "        n.remove(v)\n",
    "        newEdge= []\n",
    "        for i in range(len(e)):\n",
    "            if e[i][0] == v:\n",
    "                e[i][0] = u\n",
    "            elif e[i][1] == v:\n",
    "                e[i][1] = u\n",
    "            if e[i][0] != e[i][1]:\n",
    "                newEdge.append(e[i])\n",
    "        e = newEdge\n",
    "\n",
    "    return len(e)\n",
    "\n",
    "\n",
    "################################\n",
    "# IV. run the algo numerous times and get the minimum count of edges crossing (mincut)\n",
    "################################\n",
    "\n",
    "result = []\n",
    "\n",
    "st = time.time()\n",
    "for i in range(10000):\n",
    "        node = copy.deepcopy(n)\n",
    "        edge = copy.deepcopy(e)\n",
    "        r = contract(node, edge)\n",
    "        result.append(r)\n",
    "et = time.time()\n",
    "print('Time to run:', np.round((et-st)/60,1),'mins')\n",
    "print(min(result))"
   ]
  }
 ],
 "metadata": {
  "kernelspec": {
   "display_name": "Python 3",
   "language": "python",
   "name": "python3"
  },
  "language_info": {
   "codemirror_mode": {
    "name": "ipython",
    "version": 3
   },
   "file_extension": ".py",
   "mimetype": "text/x-python",
   "name": "python",
   "nbconvert_exporter": "python",
   "pygments_lexer": "ipython3",
   "version": "3.7.3"
  }
 },
 "nbformat": 4,
 "nbformat_minor": 2
}
