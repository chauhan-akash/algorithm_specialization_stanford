{
 "cells": [
  {
   "cell_type": "markdown",
   "metadata": {},
   "source": [
    "### Large integer multiplication - Karatsuba algorithm\n",
    "\n",
    "The details of the algo on [Wiki](https://en.wikipedia.org/wiki/Karatsuba_algorithm)"
   ]
  },
  {
   "cell_type": "code",
   "execution_count": 1,
   "metadata": {},
   "outputs": [
    {
     "name": "stdout",
     "output_type": "stream",
     "text": [
      "8539734222673567065463550869546574495034888535765114961879601127067743044893204848617875072216249073013374895871952806582723184\n",
      "8539734222673567065463550869546574495034888535765114961879601127067743044893204848617875072216249073013374895871952806582723184\n"
     ]
    }
   ],
   "source": [
    "b1 = 3141592653589793238462643383279502884197169399375105820974944592\n",
    "b2 = 2718281828459045235360287471352662497757247093699959574966967627\n",
    "\n",
    "def karat_multi(n1,n2):\n",
    "    \n",
    "    if len(str(n1))==1 or len(str(n2))==1:\n",
    "        #base condition\n",
    "        return n1*n2\n",
    "    \n",
    "    else:\n",
    "        n = round(min(len(str(n1)), len(str(n2)))/2)\n",
    "        \n",
    "        a = n1//(10**n)\n",
    "        b = n1%(10**n)\n",
    "        c = n2//(10**n)\n",
    "        d = n2%(10**n)\n",
    "        \n",
    "        m1 = karat_multi(a,c)\n",
    "        m2 = karat_multi(b,d)\n",
    "        m3 = karat_multi(a+b, c+d)\n",
    "        \n",
    "        return ((10**(2*n)*m1) + ((10**n)*(m3-m1-m2)) + m2)\n",
    "\n",
    "print(karat_multi(b1,b2))\n",
    "print(b1*b2)"
   ]
  },
  {
   "cell_type": "code",
   "execution_count": 2,
   "metadata": {},
   "outputs": [
    {
     "name": "stdout",
     "output_type": "stream",
     "text": [
      "1518760622136 1518760622136\n"
     ]
    }
   ],
   "source": [
    "# test for non equal length integers\n",
    "print(karat_multi(12312312,123353), 12312312*123353)"
   ]
  }
 ],
 "metadata": {
  "kernelspec": {
   "display_name": "Python 3",
   "language": "python",
   "name": "python3"
  },
  "language_info": {
   "codemirror_mode": {
    "name": "ipython",
    "version": 3
   },
   "file_extension": ".py",
   "mimetype": "text/x-python",
   "name": "python",
   "nbconvert_exporter": "python",
   "pygments_lexer": "ipython3",
   "version": "3.7.3"
  }
 },
 "nbformat": 4,
 "nbformat_minor": 2
}
