{
 "cells": [
  {
   "cell_type": "markdown",
   "metadata": {},
   "source": [
    "### Counting Inversions in array\n",
    "\n",
    "**Inversions in an array of size n are defined as follows:**\n",
    "\n",
    "array A = [a1,a2,a3,....an]\n",
    "inversions = count of pair of indices (i,j) such that A[i] > A[j]\n",
    "\n",
    "Ex. A = [1,3,5,2,4,6]\n",
    "This has 3 inversions - pairs of (3,2), (5,2) and (5,4).\n",
    "\n",
    "So if the array is sorted from left to right then there are no inversions.\n",
    "\n",
    "Maximum inversions for an array of size n:\n",
    "\\begin{equation}\n",
    "\\left(\\!\n",
    "    \\begin{array}{c}\n",
    "      n \\\\\n",
    "      r\n",
    "    \\end{array}\n",
    "  \\!\\right) = \\frac{n!}{r!(n-r)!}\n",
    "\\end{equation}\n",
    "\n",
    "\n",
    "**Algo to count inversions in an array**\n",
    "\n",
    " - divide the array into two halfs : left and right. A -> B and C\n",
    " - total inversions in the array A : inversions in B (left inversions) + inversions in C (right inversions) + split inversions (when elements of B are greater than elements if c).\n",
    " - we will use the following merge sort logic to count inersions.\n",
    " - recursively sort and count inversions in left and right array\n",
    " - when merging the two sorted array for every B[i] > C[j], number of split inversions = (mid - i). so we can count the total number of cases where B[i] > C[j] and we get the split inversions."
   ]
  },
  {
   "cell_type": "code",
   "execution_count": 43,
   "metadata": {},
   "outputs": [],
   "source": [
    "################################################\n",
    "# 1. function to merge two sorted arrays and count split inversions\n",
    "################################################\n",
    "\n",
    "def merge(left, right):\n",
    "    split_inv = 0\n",
    "    merged_array = []\n",
    "    i = 0\n",
    "    j = 0\n",
    "    \n",
    "    while i < len(left):\n",
    "        if j >= len(right):\n",
    "            merged_array.append(left[i])\n",
    "            i = i + 1\n",
    "        elif left[i] > right[j]:\n",
    "            split_inv = split_inv + len(left) - i\n",
    "            merged_array.append(right[j])\n",
    "            j = j + 1\n",
    "        elif left[i] <= right[j]:\n",
    "            merged_array.append(left[i])\n",
    "            i = i + 1\n",
    "\n",
    "    while j < len(right):\n",
    "        merged_array.append(right[j])\n",
    "        j = j + 1\n",
    "        \n",
    "    return [split_inv, merged_array]\n",
    "\n",
    "################################################\n",
    "# 2. function to count the inversions in an array and sort it\n",
    "################################################\n",
    "\n",
    "def count_inv(a):\n",
    "    n = len(a)\n",
    "    # base case - array of length 1\n",
    "    if n == 1:\n",
    "        return [0,a]    \n",
    "    \n",
    "    mid = n//2\n",
    "\n",
    "    b = a[0:mid]\n",
    "    c = a[mid:n]\n",
    "    \n",
    "    left_inv, sort_b  = count_inv(b)\n",
    "    right_inv, sort_c = count_inv(c)\n",
    "    split_inv, sort_a = merge(sort_b, sort_c)\n",
    "    \n",
    "    return(left_inv + right_inv + split_inv, sort_a)"
   ]
  },
  {
   "cell_type": "code",
   "execution_count": 44,
   "metadata": {},
   "outputs": [
    {
     "data": {
      "text/plain": [
       "(9, [1, 2, 3, 4, 5, 5, 7, 9])"
      ]
     },
     "execution_count": 44,
     "metadata": {},
     "output_type": "execute_result"
    }
   ],
   "source": [
    "a = [3,4,5,7,1,2,5,9]\n",
    "count_inv(a)"
   ]
  },
  {
   "cell_type": "code",
   "execution_count": 45,
   "metadata": {},
   "outputs": [
    {
     "data": {
      "text/plain": [
       "(73, [2, 2, 3, 3, 3, 4, 5, 24, 25, 25, 25, 34, 35, 45, 51, 124, 334])"
      ]
     },
     "execution_count": 45,
     "metadata": {},
     "output_type": "execute_result"
    }
   ],
   "source": [
    "a = [334,35,45,3,2,5,34,51,2,25,3,4,124,25,3,24,25]\n",
    "count_inv(a)"
   ]
  }
 ],
 "metadata": {
  "kernelspec": {
   "display_name": "Python 3",
   "language": "python",
   "name": "python3"
  },
  "language_info": {
   "codemirror_mode": {
    "name": "ipython",
    "version": 3
   },
   "file_extension": ".py",
   "mimetype": "text/x-python",
   "name": "python",
   "nbconvert_exporter": "python",
   "pygments_lexer": "ipython3",
   "version": "3.7.3"
  }
 },
 "nbformat": 4,
 "nbformat_minor": 2
}
