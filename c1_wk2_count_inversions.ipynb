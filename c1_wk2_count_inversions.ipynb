{
 "cells": [
  {
   "cell_type": "markdown",
   "metadata": {},
   "source": [
    "### Counting Inversions in array\n",
    "\n",
    "**Inversions in an array of size n are defined as follows:**\n",
    "\n",
    "array A = [a1,a2,a3,....an]\n",
    "inversions = count of pair of indices (i,j) such that A[i] > A[j]\n",
    "\n",
    "Ex. A = [1,3,5,2,4,6]\n",
    "This has 3 inversions - pairs of (3,2), (5,2) and (5,4).\n",
    "\n",
    "So if the array is sorted from left to right then there are no inversions.\n",
    "\n",
    "Maximum inversions for an array of size n:\n",
    "\\begin{equation}\n",
    "\\left(\\!\n",
    "    \\begin{array}{c}\n",
    "      n \\\\\n",
    "      r\n",
    "    \\end{array}\n",
    "  \\!\\right) = \\frac{n!}{r!(n-r)!}\n",
    "\\end{equation}\n",
    "\n",
    "\n",
    "**Algo to count inversions in an array**\n",
    "\n",
    " - divide the array into two halfs : left and right. A -> B and C\n",
    " - total inversions in the array A : inversions in B (left inversions) + inversions in C (right inversions) + split inversions (when elements of B are greater than elements if c).\n",
    " - we will use the following merge sort logic to count inersions.\n",
    " - recursively sort and count inversions in left and right array\n",
    " - when merging the two sorted array for every B[i] > C[j], number of split inversions = (mid - i). so we can count the total number of cases where B[i] > C[j] and we get the split inversions."
   ]
  },
  {
   "cell_type": "code",
   "execution_count": 1,
   "metadata": {},
   "outputs": [],
   "source": [
    "################################################\n",
    "# 1. importing key libraries\n",
    "################################################\n",
    "\n",
    "import numpy as np\n",
    "import os\n",
    "import string as st\n",
    "import time"
   ]
  },
  {
   "cell_type": "code",
   "execution_count": 2,
   "metadata": {},
   "outputs": [],
   "source": [
    "################################################\n",
    "# 2. function to merge two sorted arrays and count split inversions\n",
    "################################################\n",
    "\n",
    "def merge(left, right):\n",
    "    split_inv = 0\n",
    "    merged_array = []\n",
    "    i = 0\n",
    "    j = 0\n",
    "    \n",
    "    while i < len(left):\n",
    "        if j >= len(right):\n",
    "            merged_array.append(left[i])\n",
    "            i = i + 1\n",
    "        elif left[i] > right[j]:\n",
    "            split_inv = split_inv + len(left) - i\n",
    "            merged_array.append(right[j])\n",
    "            j = j + 1\n",
    "        elif left[i] <= right[j]:\n",
    "            merged_array.append(left[i])\n",
    "            i = i + 1\n",
    "\n",
    "    while j < len(right):\n",
    "        merged_array.append(right[j])\n",
    "        j = j + 1\n",
    "        \n",
    "    return [split_inv, merged_array]\n",
    "\n",
    "################################################\n",
    "# 3. function to count the inversions in an array and sort it\n",
    "################################################\n",
    "\n",
    "def count_inv(a):\n",
    "    n = len(a)\n",
    "    # base case - array of length 1\n",
    "    if n == 1:\n",
    "        return [0,a]    \n",
    "    \n",
    "    mid = n//2\n",
    "\n",
    "    b = a[0:mid]\n",
    "    c = a[mid:n]\n",
    "    \n",
    "    left_inv, sort_b  = count_inv(b)\n",
    "    right_inv, sort_c = count_inv(c)\n",
    "    split_inv, sort_a = merge(sort_b, sort_c)\n",
    "    \n",
    "    return(left_inv + right_inv + split_inv, sort_a)"
   ]
  },
  {
   "cell_type": "code",
   "execution_count": 3,
   "metadata": {},
   "outputs": [
    {
     "data": {
      "text/plain": [
       "(9, [1, 2, 3, 4, 5, 5, 7, 9])"
      ]
     },
     "execution_count": 3,
     "metadata": {},
     "output_type": "execute_result"
    }
   ],
   "source": [
    "a = [3,4,5,7,1,2,5,9]\n",
    "count_inv(a)"
   ]
  },
  {
   "cell_type": "code",
   "execution_count": 4,
   "metadata": {},
   "outputs": [
    {
     "data": {
      "text/plain": [
       "(73, [2, 2, 3, 3, 3, 4, 5, 24, 25, 25, 25, 34, 35, 45, 51, 124, 334])"
      ]
     },
     "execution_count": 4,
     "metadata": {},
     "output_type": "execute_result"
    }
   ],
   "source": [
    "a = [334,35,45,3,2,5,34,51,2,25,3,4,124,25,3,24,25]\n",
    "count_inv(a)"
   ]
  },
  {
   "cell_type": "markdown",
   "metadata": {},
   "source": [
    "**We will use the above function to count inversions on a really big array of integers. This list has ~100,000 integers.**"
   ]
  },
  {
   "cell_type": "code",
   "execution_count": 5,
   "metadata": {},
   "outputs": [
    {
     "name": "stdout",
     "output_type": "stream",
     "text": [
      "100000\n",
      "First 10 entries of a : [54044, 14108, 79294, 29649, 25260, 60660, 2995, 53777, 49689, 9083]\n"
     ]
    }
   ],
   "source": [
    "f = open('input_text.txt', 'r')\n",
    "a = f.read().splitlines()\n",
    "# convert the strings in int\n",
    "a = [int(i) for i in a]\n",
    "print(len(a))\n",
    "print('First 10 entries of a :', a[0:10])"
   ]
  },
  {
   "cell_type": "code",
   "execution_count": 6,
   "metadata": {},
   "outputs": [
    {
     "name": "stdout",
     "output_type": "stream",
     "text": [
      "Number of inversions: 2407905288\n",
      "First 15 entries of sorted a : [1, 2, 3, 4, 5, 6, 7, 8, 9, 10, 11, 12, 13, 14, 15]\n",
      "Time taken : 0.75 secs\n"
     ]
    }
   ],
   "source": [
    "st = time.time()\n",
    "inv, sorted_a = count_inv(a)\n",
    "print('Number of inversions:', inv)\n",
    "print('First 15 entries of sorted a :', sorted_a[0:15])\n",
    "et = time.time()\n",
    "print('Time taken :', np.round(et-st,2),'secs')"
   ]
  },
  {
   "cell_type": "code",
   "execution_count": 7,
   "metadata": {},
   "outputs": [
    {
     "name": "stdout",
     "output_type": "stream",
     "text": [
      "0 [1, 2, 3, 4, 5, 6, 7, 8, 9, 10, 11, 12, 13, 14, 15]\n"
     ]
    }
   ],
   "source": [
    "# test if the sorted array gives the correct results\n",
    "inv, a1 = count_inv(sorted_a)\n",
    "print(inv, a1[0:15])"
   ]
  }
 ],
 "metadata": {
  "kernelspec": {
   "display_name": "Python 3",
   "language": "python",
   "name": "python3"
  },
  "language_info": {
   "codemirror_mode": {
    "name": "ipython",
    "version": 3
   },
   "file_extension": ".py",
   "mimetype": "text/x-python",
   "name": "python",
   "nbconvert_exporter": "python",
   "pygments_lexer": "ipython3",
   "version": "3.7.3"
  }
 },
 "nbformat": 4,
 "nbformat_minor": 2
}
